{
  "nbformat": 4,
  "nbformat_minor": 0,
  "metadata": {
    "colab": {
      "provenance": [],
      "authorship_tag": "ABX9TyPagju0sz3OlDpWei9Jb83S",
      "include_colab_link": true
    },
    "kernelspec": {
      "name": "python3",
      "display_name": "Python 3"
    },
    "language_info": {
      "name": "python"
    }
  },
  "cells": [
    {
      "cell_type": "markdown",
      "metadata": {
        "id": "view-in-github",
        "colab_type": "text"
      },
      "source": [
        "<a href=\"https://colab.research.google.com/github/EDaviesmathematics/2023_IonQ_Remote/blob/main/drone_route_simple.ipynb\" target=\"_parent\"><img src=\"https://colab.research.google.com/assets/colab-badge.svg\" alt=\"Open In Colab\"/></a>"
      ]
    },
    {
      "cell_type": "code",
      "source": [
        "!pip install dimod\n",
        "!pip install numpy"
      ],
      "metadata": {
        "colab": {
          "base_uri": "https://localhost:8080/"
        },
        "id": "s9qC5GMB21Hc",
        "outputId": "38a5e160-22c5-46df-e1ae-c269c90795ca"
      },
      "execution_count": null,
      "outputs": [
        {
          "output_type": "stream",
          "name": "stdout",
          "text": [
            "Collecting dimod\n",
            "  Downloading dimod-0.12.14-cp310-cp310-manylinux_2_17_x86_64.manylinux2014_x86_64.whl (18.7 MB)\n",
            "\u001b[2K     \u001b[90m━━━━━━━━━━━━━━━━━━━━━━━━━━━━━━━━━━━━━━━━\u001b[0m \u001b[32m18.7/18.7 MB\u001b[0m \u001b[31m39.6 MB/s\u001b[0m eta \u001b[36m0:00:00\u001b[0m\n",
            "\u001b[?25hRequirement already satisfied: numpy<2.0.0,>=1.17.3 in /usr/local/lib/python3.10/dist-packages (from dimod) (1.25.2)\n",
            "Installing collected packages: dimod\n",
            "Successfully installed dimod-0.12.14\n",
            "Requirement already satisfied: numpy in /usr/local/lib/python3.10/dist-packages (1.25.2)\n"
          ]
        }
      ]
    },
    {
      "cell_type": "code",
      "execution_count": null,
      "metadata": {
        "colab": {
          "base_uri": "https://localhost:8080/"
        },
        "id": "vh_hOUWU2v5q",
        "outputId": "7e1b873a-aa19-4673-93b4-c80d5dae7b1e"
      },
      "outputs": [
        {
          "output_type": "stream",
          "name": "stdout",
          "text": [
            "{'d_1_1': 0, 'd_end_1': 0, 'd_start_1': 0, 'e_1_end': 1, 'e_start_1': 1, 'slack_d1>dend_0': 0, 'slack_d1>dend_1': 0, 'slack_d1>dstart_0': 0, 'slack_d1>dstart_1': 0, 'slack_dend>d1_0': 0, 'slack_dend>d1_1': 0, 'slack_dstart>d1_0': 0, 'slack_dstart>d1_1': 0, 'slack_time 1 to end_0': 0, 'slack_time 1 to end_1': 0, 'slack_time 1 to end_2': 0, 'slack_time start to 1_0': 0, 'slack_time start to 1_1': 0, 'slack_time start to 1_2': 0, 't_1_1': 1, 't_1_2': 0, 't_end_1': 1, 't_end_2': 1, 't_start_1': 0, 't_start_2': 0, 'x_1': 1}\n",
            "0.0\n",
            "nodes on ['x_1']\n",
            "edges on ['e_1_end', 'e_start_1']\n",
            "node times {'1': 1, 'end': 3, 'start': 0}\n",
            "drone values {'1': 0, 'end': 0, 'start': 0}\n"
          ]
        }
      ],
      "source": [
        "import dimod\n",
        "import numpy as np\n",
        "\n",
        "\n",
        "#set up to problem\n",
        "graph = {('start','1'):1,('1','end'):2}\n",
        "T_max  = 3\n",
        "num_drones =2\n",
        "\n",
        "\n",
        "regular_nodes = ['1']\n",
        "out_nodes = ['start']\n",
        "in_nodes = ['end']\n",
        "\n",
        "edges = [edge for edge in graph]\n",
        "\n",
        "log_d = int(np.ceil(np.log2(num_drones)))\n",
        "log_T_max =  int(np.ceil(np.log2(T_max)))\n",
        "\n",
        "nodes = list(set([a for a,b in graph]+[b for a,b in graph]))\n",
        "\n",
        "node_bin = { a: f'x_{a}'for a in nodes}\n",
        "edge_bin = {edge: f'e_{edge[0]}_{edge[1]}' for edge in edges}\n",
        "time_bin = { a: {f't_{a}_{2**i}':2**i for i in range(log_T_max)} for a in nodes}\n",
        "drone_bin = {a: {f'd_{a}_{2 ** i}': 2 ** i for i in range(log_d)} for a in nodes}\n",
        "\n",
        "bqm = dimod.BinaryQuadraticModel({}, {}, 0.0, dimod.BINARY)\n",
        "\n",
        "\n",
        "for a in regular_nodes:\n",
        "    bqm.add_linear_equality_constraint([(node_bin[a],-1)]+[(edge_bin[edge],1) for edge in edges if a == edge[0]],1,0)\n",
        "    bqm.add_linear_equality_constraint([(node_bin[a], -1)] + [(edge_bin[edge], 1) for edge in edges if a == edge[1]], 1, 0)\n",
        "\n",
        "\n",
        "for a in out_nodes:\n",
        "    bqm.add_linear_equality_constraint([(node_bin[a], -1)] + [(edge_bin[edge], 1) for edge in edges if a == edge[0]], 100, 0)\n",
        "\n",
        "\n",
        "for a in in_nodes:\n",
        "    bqm.add_linear_equality_constraint([(node_bin[a], -1)] + [(edge_bin[edge], 1) for edge in edges if a == edge[1]], 100, 0)\n",
        "\n",
        "\n",
        "\n",
        "\n",
        "for edge in edges:\n",
        "    a,b = edge\n",
        "\n",
        "    bqm.add_linear_inequality_constraint(\n",
        "        [(key,-val) for key, val in time_bin[b].items()] + [(key,val) for key, val in time_bin[a].items()]+[(edge_bin[edge],T_max)],\n",
        "        1,\n",
        "        f'time {a} to {b}',\n",
        "        constant = -T_max+graph[edge],\n",
        "        ub=0)\n",
        "\n",
        "for edge in edges:\n",
        "    a,b = edge\n",
        "    bqm.add_linear_inequality_constraint(\n",
        "        [(key,-val) for key, val in drone_bin[a].items()] + [(key,val) for key, val in drone_bin[b].items()]+[(edge_bin[edge],num_drones)],\n",
        "        1,\n",
        "        f'd{a}>d{b}',\n",
        "        constant = -num_drones,\n",
        "        ub=0)\n",
        "\n",
        "    bqm.add_linear_inequality_constraint(\n",
        "        [(key, -val) for key, val in drone_bin[b].items()] + [(key, val) for key, val in drone_bin[a].items()] + [(edge_bin[edge], num_drones)],\n",
        "        1,\n",
        "        f'd{b}>d{a}',\n",
        "        constant = -num_drones,\n",
        "        ub=0)\n",
        "\n",
        "\n",
        "\n",
        "for node in out_nodes + in_nodes:\n",
        "    bqm.fix_variable(node_bin[node],1)\n",
        "\n",
        "# Solve the QUBO\n",
        "sampler = dimod.ExactSolver().sample(bqm)\n",
        "print(sampler.first.sample)\n",
        "print(bqm.energy(sampler.first.sample))\n",
        "\n",
        "\n",
        "\n",
        "solution = [key for key, val in sampler.first.sample.items() if val == 1]\n",
        "edges_on = [key for key in solution if key[0]=='e']\n",
        "nodes_on = [key for key in solution if key[0] =='x']\n",
        "times = {a:0 for a in nodes}\n",
        "for key in solution:\n",
        "    if key[0]=='t':\n",
        "        times[key.split('_')[1]] += int(key.split('_')[2])\n",
        "\n",
        "drone_nodes = {a: 0 for a in nodes}\n",
        "for key in solution:\n",
        "    if key[0]=='d':\n",
        "        drone_nodes[key.split('_')[1]] += int(key.split('_')[2])\n",
        "\n",
        "print(f'nodes on {nodes_on}')\n",
        "print(f'edges on {edges_on}')\n",
        "print(f'node times {times}')\n",
        "print(f'drone values {drone_nodes}')\n",
        "\n"
      ]
    },
    {
      "cell_type": "code",
      "source": [],
      "metadata": {
        "id": "gGWY4RwG3OVl"
      },
      "execution_count": null,
      "outputs": []
    }
  ]
}